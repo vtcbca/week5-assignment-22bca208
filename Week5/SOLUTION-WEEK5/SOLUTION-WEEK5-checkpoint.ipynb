{
 "cells": [
  {
   "cell_type": "code",
   "execution_count": 1,
   "id": "375c4d42",
   "metadata": {},
   "outputs": [],
   "source": [
    "import csv"
   ]
  },
  {
   "cell_type": "code",
   "execution_count": 2,
   "id": "399356e0",
   "metadata": {},
   "outputs": [],
   "source": [
    "r=[['1','Om','Surat','7689054432'],\n",
    "   ['2','Sai','Bardoli','6578459801'],\n",
    "   ['3','Ram','Vyara','8907654320'],\n",
    "   ['4','Kishan','Bharuch','9087653421'],\n",
    "   ['5','Radha','Ahemdabad','0987654321']]"
   ]
  },
  {
   "cell_type": "code",
   "execution_count": 3,
   "id": "b3de0bf0",
   "metadata": {},
   "outputs": [
    {
     "name": "stdout",
     "output_type": "stream",
     "text": [
      "Enter Student Id : 6\n",
      "Enter Student Name : Pooja\n",
      "Enter Student City : Madhi\n",
      "Enter Student Contact : 7678797574\n",
      "Enter Student Id : 7\n",
      "Enter Student Name : Pratik\n",
      "Enter Student City : Nashik\n",
      "Enter Student Contact : 8789789890\n",
      "Enter Student Id : 8\n",
      "Enter Student Name : Gopal\n",
      "Enter Student City : Puna\n",
      "Enter Student Contact : 6569678021\n",
      "Enter Student Id : 9\n",
      "Enter Student Name : Shiv\n",
      "Enter Student City : Rajkot\n",
      "Enter Student Contact : 9988770066\n",
      "Enter Student Id : 10\n",
      "Enter Student Name : Laxkmi\n",
      "Enter Student City : Vadodara\n",
      "Enter Student Contact : 7788996600\n"
     ]
    }
   ],
   "source": [
    "for i in range(5):\n",
    "    sid=int(input('Enter Student Id : '))\n",
    "    sname=input('Enter Student Name : ')\n",
    "    city=input('Enter Student City : ')\n",
    "    contact=int(input('Enter Student Contact : '))\n",
    "    r.append((sid,sname,city,contact))"
   ]
  },
  {
   "cell_type": "markdown",
   "id": "22ba3857",
   "metadata": {},
   "source": [
    "### Writing the CSV file"
   ]
  },
  {
   "cell_type": "code",
   "execution_count": 5,
   "id": "d84e85c9",
   "metadata": {},
   "outputs": [],
   "source": [
    "with open('student.csv','w',newline='') as csvfile:\n",
    "    write_obj=csv.writer(csvfile)\n",
    "    header=['S_ID','S_NAME','S_CITY','S_CONTACT_NO']\n",
    "    write_obj.writerow(header)\n",
    "    write_obj.writerows(r)"
   ]
  },
  {
   "cell_type": "markdown",
   "id": "4857862b",
   "metadata": {},
   "source": [
    "### Reading the CSV file"
   ]
  },
  {
   "cell_type": "code",
   "execution_count": 6,
   "id": "22475b4d",
   "metadata": {},
   "outputs": [
    {
     "name": "stdout",
     "output_type": "stream",
     "text": [
      "['S_ID', 'S_NAME', 'S_CITY', 'S_CONTACT_NO']\n",
      "['1', 'Om', 'Surat', '7689054432']\n",
      "['2', 'Sai', 'Bardoli', '6578459801']\n",
      "['3', 'Ram', 'Vyara', '8907654320']\n",
      "['4', 'Kishan', 'Bharuch', '9087653421']\n",
      "['5', 'Radha', 'Ahemdabad', '0987654321']\n",
      "['6', 'Pooja', 'Madhi', '7678797574']\n",
      "['7', 'Pratik', 'Nashik', '8789789890']\n",
      "['8', 'Gopal', 'Puna', '6569678021']\n",
      "['9', 'Shiv', 'Rajkot', '9988770066']\n",
      "['10', 'Laxkmi', 'Vadodara', '7788996600']\n"
     ]
    }
   ],
   "source": [
    "with open('student.csv','r') as csvfile:\n",
    "    read_obj=csv.reader(csvfile)\n",
    "    for row in read_obj:\n",
    "        print(row)"
   ]
  },
  {
   "cell_type": "code",
   "execution_count": null,
   "id": "585aac07",
   "metadata": {},
   "outputs": [],
   "source": []
  }
 ],
 "metadata": {
  "kernelspec": {
   "display_name": "Python 3 (ipykernel)",
   "language": "python",
   "name": "python3"
  },
  "language_info": {
   "codemirror_mode": {
    "name": "ipython",
    "version": 3
   },
   "file_extension": ".py",
   "mimetype": "text/x-python",
   "name": "python",
   "nbconvert_exporter": "python",
   "pygments_lexer": "ipython3",
   "version": "3.9.6"
  }
 },
 "nbformat": 4,
 "nbformat_minor": 5
}
